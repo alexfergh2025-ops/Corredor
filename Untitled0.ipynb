{
  "nbformat": 4,
  "nbformat_minor": 0,
  "metadata": {
    "colab": {
      "provenance": [],
      "gpuType": "T4",
      "authorship_tag": "ABX9TyMzuxwsVWSZHd7kc1pLZop6",
      "include_colab_link": true
    },
    "kernelspec": {
      "name": "python3",
      "display_name": "Python 3"
    },
    "language_info": {
      "name": "python"
    },
    "accelerator": "GPU"
  },
  "cells": [
    {
      "cell_type": "markdown",
      "metadata": {
        "id": "view-in-github",
        "colab_type": "text"
      },
      "source": [
        "<a href=\"https://colab.research.google.com/github/alexfergh2025-ops/Corredor/blob/main/Untitled0.ipynb\" target=\"_parent\"><img src=\"https://colab.research.google.com/assets/colab-badge.svg\" alt=\"Open In Colab\"/></a>"
      ]
    },
    {
      "cell_type": "markdown",
      "source": [
        "**Sistema de ecuaciones lineales**\n",
        "\n",
        "x + 2y = 1\n",
        "\n",
        "3x - 5y = 2"
      ],
      "metadata": {
        "id": "86fwvD-L4ErO"
      }
    },
    {
      "cell_type": "code",
      "execution_count": 1,
      "metadata": {
        "id": "5l3k4l8EztbX"
      },
      "outputs": [],
      "source": [
        "import numpy as np\n"
      ]
    },
    {
      "cell_type": "code",
      "source": [
        "a = np.array([[1,6], [7,-3]])\n",
        "b = np.array([27,9])\n",
        "\n",
        "#np.linag.solve(m1,m2)\n",
        "\n",
        "x = np.linalg.solve(a,b)\n",
        "print(x)"
      ],
      "metadata": {
        "colab": {
          "base_uri": "https://localhost:8080/"
        },
        "id": "exRUNoYf5gz5",
        "outputId": "86d27a61-6f9b-4c8d-df00-8f85bf16f9aa"
      },
      "execution_count": 9,
      "outputs": [
        {
          "output_type": "stream",
          "name": "stdout",
          "text": [
            "[3. 4.]\n"
          ]
        }
      ]
    },
    {
      "cell_type": "code",
      "source": [
        "a = np.matrix([[1,1,2], [3,1,-2], [5,-2,5]])\n",
        "b = np.matrix([[8],[10],[12]])\n",
        "\n",
        "x =(a ** -1) * b\n",
        "print(np.round(x,2))"
      ],
      "metadata": {
        "colab": {
          "base_uri": "https://localhost:8080/"
        },
        "id": "4o6nbVP08S9N",
        "outputId": "1aedfe7d-b210-4a42-b405-48bf4b82d272"
      },
      "execution_count": 28,
      "outputs": [
        {
          "output_type": "stream",
          "name": "stdout",
          "text": [
            "[[2.83]\n",
            " [3.35]\n",
            " [0.91]]\n"
          ]
        }
      ]
    },
    {
      "cell_type": "markdown",
      "source": [
        "**Ecuaciones lineales con artificios**\n",
        "\n"
      ],
      "metadata": {
        "id": "7hRKITyJ_XiL"
      }
    },
    {
      "cell_type": "code",
      "source": [
        "#Registrar variables\n",
        "A = np.matrix([[1,2,1], [2,2,1], [3,3,5]])\n",
        "B = np.matrix([[8],[9],[24]])\n",
        "\n",
        "#Primer metodo\n",
        "print(\"Primera solucion\")\n",
        "x = (A ** -1 )* B\n",
        "print(x)\n",
        "\n",
        "#Segunda solucion\n",
        "print(\"Segunda solucion\")\n",
        "y = np.linalg.solve(A,B)\n",
        "print(y)"
      ],
      "metadata": {
        "colab": {
          "base_uri": "https://localhost:8080/"
        },
        "id": "GB5LsR5o_IQp",
        "outputId": "3548f8a6-85fa-445a-9789-9e6fafceb38c"
      },
      "execution_count": 20,
      "outputs": [
        {
          "output_type": "stream",
          "name": "stdout",
          "text": [
            "Primera solucion\n",
            "[[1.]\n",
            " [2.]\n",
            " [3.]]\n",
            "Segunda solucion\n",
            "[[1.]\n",
            " [2.]\n",
            " [3.]]\n"
          ]
        }
      ]
    },
    {
      "cell_type": "markdown",
      "source": [
        "✅Ecuaciones cuadraticas con estadisticas"
      ],
      "metadata": {
        "id": "_9xQolAKCcp2"
      }
    },
    {
      "cell_type": "code",
      "source": [
        "import matplotlib.pyplot as plt\n",
        "\n",
        "# 1- Definir los datos\n",
        "x = np.linspace(-5,5,100)# valores de x\n",
        "y = x**2 # Valres de y para y = x²\n",
        "\n",
        "# 2- Crear el grafico\n",
        "plt.figure(figsize=(8,6)) # Tamaño del grafico\n",
        "plt.plot(x,y, color = \"red\", label = \"Y = x²\") # Trazado de linea azul\n",
        "\n",
        "# 3- Añadir elementos al grafico\n",
        "plt.xlabel('Eje X')\n",
        "plt.ylabel('Eje Y')\n",
        "plt.title(\"Visualizacion de la ecuacion Y = X²\")\n",
        "plt.grid(True)\n",
        "plt.legend()\n",
        "\n",
        "# 4- Mostrar el grafico\n",
        "plt.show()\n"
      ],
      "metadata": {
        "colab": {
          "base_uri": "https://localhost:8080/",
          "height": 564
        },
        "id": "YrdxVRAgC69y",
        "outputId": "5feb9629-3234-4cb7-c32d-c9b7b8fe416b"
      },
      "execution_count": 39,
      "outputs": [
        {
          "output_type": "display_data",
          "data": {
            "text/plain": [
              "<Figure size 800x600 with 1 Axes>"
            ],
            "image/png": "[encoded data removed]"
          },
          "metadata": {}
        }
      ]
    },
    {
      "cell_type": "code",
      "source": [],
      "metadata": {
        "id": "CoaQ00jmDREn"
      },
      "execution_count": null,
      "outputs": []
    }
  ]
}